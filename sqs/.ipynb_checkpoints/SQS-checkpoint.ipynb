{
 "cells": [
  {
   "cell_type": "markdown",
   "metadata": {},
   "source": [
    "# SQS"
   ]
  },
  {
   "cell_type": "markdown",
   "metadata": {},
   "source": [
    "SQS allows you to queue and then process messages. This tutorial covers how to create a new queue, get and use an existing queue, push new messages onto the queue, and process messages from the queue by using Resources and Collections."
   ]
  },
  {
   "cell_type": "markdown",
   "metadata": {},
   "source": [
    "## Creating a Queue"
   ]
  },
  {
   "cell_type": "markdown",
   "metadata": {},
   "source": [
    "Queues are created with a name. You may also optionally set queue attributes, such as the number of seconds to wait before an item may be processed. The examples below will use the queue name test. Before creating a queue, you must first get the SQS service resource:"
   ]
  },
  {
   "cell_type": "code",
   "execution_count": null,
   "metadata": {},
   "outputs": [],
   "source": [
    "import boto3\n",
    "\n",
    "# Get the service resource\n",
    "sqs = boto3.resource('sqs')\n",
    "\n",
    "# Create the queue. This returns an SQS.Queue instance\n",
    "queue = sqs.create_queue(QueueName='test', Attributes={'DelaySeconds': '5'})\n",
    "\n",
    "# You can now access identifiers and attributes\n",
    "print(queue.url)\n",
    "print(queue.attributes.get('DelaySeconds'))"
   ]
  },
  {
   "cell_type": "markdown",
   "metadata": {},
   "source": [
    "Reference: SQS.ServiceResource.create_queue()\n",
    "\n",
    "Warning\n",
    "The code above may throw an exception if you already have a queue named test."
   ]
  },
  {
   "cell_type": "markdown",
   "metadata": {},
   "source": []
  },
  {
   "cell_type": "markdown",
   "metadata": {},
   "source": [
    "## Using an Existing Queue "
   ]
  },
  {
   "cell_type": "markdown",
   "metadata": {},
   "source": [
    "It is possible to look up a queue by its name. If the queue does not exist, then an exception will be thrown:"
   ]
  },
  {
   "cell_type": "code",
   "execution_count": null,
   "metadata": {},
   "outputs": [],
   "source": [
    "import boto3\n",
    "\n",
    "# Get the service resource\n",
    "sqs = boto3.resource('sqs')\n",
    "\n",
    "# Get the queue. This returns an SQS.Queue instance\n",
    "queue = sqs.get_queue_by_name(QueueName='test')\n",
    "\n",
    "# You can now access identifiers and attributes\n",
    "print(queue.url)\n",
    "print(queue.attributes.get('DelaySeconds'))\n",
    "#It is also possible to list all of your existing queues:\n",
    "\n",
    "# Print out each queue name, which is part of its ARN\n",
    "for queue in sqs.queues.all():\n",
    "    print(queue.url)\n"
   ]
  },
  {
   "cell_type": "markdown",
   "metadata": {},
   "source": [
    "Note\n",
    "To get the name from a queue, you must use its ARN, which is available in the queue's attributes attribute. Using queue.attributes['QueueArn'].split(':')[-1] will return its name.\n",
    "\n",
    "Reference: SQS.ServiceResource.get_queue_by_name(), SQS.ServiceResource.queues"
   ]
  },
  {
   "cell_type": "markdown",
   "metadata": {},
   "source": [
    "## Sending Messages "
   ]
  },
  {
   "cell_type": "markdown",
   "metadata": {},
   "source": [
    "Sending a message adds it to the end of the queue:"
   ]
  },
  {
   "cell_type": "code",
   "execution_count": null,
   "metadata": {},
   "outputs": [],
   "source": [
    "import boto3\n",
    "\n",
    "# Get the service resource\n",
    "sqs = boto3.resource('sqs')\n",
    "\n",
    "# Get the queue\n",
    "queue = sqs.get_queue_by_name(QueueName='test')\n",
    "\n",
    "# Create a new message\n",
    "response = queue.send_message(MessageBody='world')\n",
    "\n",
    "# The response is NOT a resource, but gives you a message ID and MD5\n",
    "print(response.get('MessageId'))\n",
    "print(response.get('MD5OfMessageBody'))"
   ]
  },
  {
   "cell_type": "code",
   "execution_count": null,
   "metadata": {},
   "outputs": [],
   "source": [
    "#You can also create messages with custom attributes:\n",
    "\n",
    "queue.send_message(MessageBody='boto3', MessageAttributes={\n",
    "    'Author': {\n",
    "        'StringValue': 'Daniel',\n",
    "        'DataType': 'String'\n",
    "    }\n",
    "})"
   ]
  },
  {
   "cell_type": "code",
   "execution_count": null,
   "metadata": {},
   "outputs": [],
   "source": [
    "# Messages can also be sent in batches. For example, sending the two messages described above in a single request would look like the following:\n",
    "\n",
    "response = queue.send_messages(Entries=[\n",
    "    {\n",
    "        'Id': '1',\n",
    "        'MessageBody': 'world'\n",
    "    },\n",
    "    {\n",
    "        'Id': '2',\n",
    "        'MessageBody': 'boto3',\n",
    "        'MessageAttributes': {\n",
    "            'Author': {\n",
    "                'StringValue': 'Daniel',\n",
    "                'DataType': 'String'\n",
    "            }\n",
    "        }\n",
    "    }\n",
    "])\n",
    "\n",
    "# Print out any failures\n",
    "print(response.get('Failed'))"
   ]
  },
  {
   "cell_type": "markdown",
   "metadata": {},
   "source": [
    "In this case, the response contains lists of Successful and Failed messages, so you can retry failures if needed.\n",
    "\n",
    "Reference: SQS.Queue.send_message(), SQS.Queue.send_messages()"
   ]
  },
  {
   "cell_type": "markdown",
   "metadata": {},
   "source": [
    "## Processing Messages"
   ]
  },
  {
   "cell_type": "code",
   "execution_count": null,
   "metadata": {},
   "outputs": [],
   "source": [
    "### Messages are processed in batches:\n",
    "\n",
    "# Get the service resource\n",
    "sqs = boto3.resource('sqs')\n",
    "\n",
    "# Get the queue\n",
    "queue = sqs.get_queue_by_name(QueueName='test')"
   ]
  },
  {
   "cell_type": "code",
   "execution_count": null,
   "metadata": {},
   "outputs": [],
   "source": [
    "# Process messages by printing out body and optional author name\n",
    "for message in queue.receive_messages(MessageAttributeNames=['Author']):\n",
    "    # Get the custom author message attribute if it was set\n",
    "    author_text = ''\n",
    "    if message.message_attributes is not None:\n",
    "        author_name = message.message_attributes.get('Author').get('StringValue')\n",
    "        if author_name:\n",
    "            author_text = ' ({0})'.format(author_name)\n",
    "\n",
    "    # Print out the body and author (if set)\n",
    "    print('Hello, {0}!{1}'.format(message.body, author_text))\n",
    "\n",
    "    # Let the queue know that the message is processed\n",
    "    message.delete()"
   ]
  },
  {
   "cell_type": "markdown",
   "metadata": {},
   "source": [
    "Given only the messages that were sent in a batch with SQS.Queue.send_messages() in the previous section, the above code will print out:\n",
    "\n",
    "Hello, world!\n",
    "Hello, boto3! (Daniel)\n",
    "Reference: SQS.Queue.receive_messages(), SQS.Message.delete()"
   ]
  }
 ],
 "metadata": {
  "kernelspec": {
   "display_name": "Python 3",
   "language": "python",
   "name": "python3"
  },
  "language_info": {
   "codemirror_mode": {
    "name": "ipython",
    "version": 3
   },
   "file_extension": ".py",
   "mimetype": "text/x-python",
   "name": "python",
   "nbconvert_exporter": "python",
   "pygments_lexer": "ipython3",
   "version": "3.7.4"
  }
 },
 "nbformat": 4,
 "nbformat_minor": 2
}
