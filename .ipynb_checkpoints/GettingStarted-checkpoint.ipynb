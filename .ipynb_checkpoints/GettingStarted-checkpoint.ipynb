{
 "cells": [
  {
   "cell_type": "markdown",
   "metadata": {},
   "source": [
    "## Installation "
   ]
  },
  {
   "cell_type": "markdown",
   "metadata": {},
   "source": [
    "Install the latest Boto 3 release via pip:\n",
    "\n",
    "pip install boto3"
   ]
  },
  {
   "cell_type": "markdown",
   "metadata": {},
   "source": [
    "You may also install a specific version:\n",
    "\n",
    "pip install boto3==1.0.0"
   ]
  },
  {
   "cell_type": "markdown",
   "metadata": {},
   "source": [
    "## Configuration"
   ]
  },
  {
   "cell_type": "markdown",
   "metadata": {},
   "source": [
    "Before you can begin using Boto 3, \n",
    "you should set up authentication credentials. \n",
    "Credentials for your AWS account can be found in the IAM Console. \n",
    "You can create or use an existing user. Go to manage access keys \n",
    "and generate a new set of keys.\n",
    "\n",
    "If you have the AWS CLI installed, \n",
    "then you can use it to configure your credentials file:\n",
    "    \n",
    "    aws configure"
   ]
  },
  {
   "cell_type": "markdown",
   "metadata": {},
   "source": [
    "Alternatively, you can create the credential file yourself. \n",
    "By default, its location is at ~/.aws/credentials:\n",
    "\n",
    "[default]\n",
    "aws_access_key_id = YOUR_ACCESS_KEY\n",
    "aws_secret_access_key = YOUR_SECRET_KEY"
   ]
  },
  {
   "cell_type": "markdown",
   "metadata": {},
   "source": [
    "You may also want to set a default region. \n",
    "This can be done in the configuration file. \n",
    "By default, its location is at ~/.aws/config:\n",
    "\n",
    "[default]\n",
    "region=us-east-1"
   ]
  },
  {
   "cell_type": "markdown",
   "metadata": {},
   "source": [
    "Alternatively, \n",
    "you can pass a region_name when creating clients and resources.\n",
    "\n",
    "This sets up credentials for the default profile as well as \n",
    "a default region to use when creating connections"
   ]
  }
 ],
 "metadata": {
  "kernelspec": {
   "display_name": "Python 3",
   "language": "python",
   "name": "python3"
  },
  "language_info": {
   "codemirror_mode": {
    "name": "ipython",
    "version": 3
   },
   "file_extension": ".py",
   "mimetype": "text/x-python",
   "name": "python",
   "nbconvert_exporter": "python",
   "pygments_lexer": "ipython3",
   "version": "3.7.4"
  }
 },
 "nbformat": 4,
 "nbformat_minor": 2
}
